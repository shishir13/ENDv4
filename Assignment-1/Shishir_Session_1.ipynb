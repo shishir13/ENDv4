{
  "nbformat": 4,
  "nbformat_minor": 0,
  "metadata": {
    "colab": {
      "name": "Shishir Session 1.ipynb",
      "provenance": [],
      "collapsed_sections": []
    },
    "kernelspec": {
      "name": "python3",
      "display_name": "Python 3"
    },
    "language_info": {
      "name": "python"
    }
  },
  "cells": [
    {
      "cell_type": "code",
      "metadata": {
        "colab": {
          "base_uri": "https://localhost:8080/"
        },
        "id": "GC_6PeobwwkH",
        "outputId": "85962933-2f64-41b0-b067-d720bc079bc2"
      },
      "source": [
        "import torch\n",
        "from torch.autograd import Variable\n",
        "import torch.nn as nn\n",
        "import torch.nn.functional as F\n",
        "import torch.optim as optim\n",
        "import numpy as np\n",
        "import matplotlib.pyplot as plt\n",
        "%matplotlib inline\n",
        "torch.manual_seed(2)"
      ],
      "execution_count": 3,
      "outputs": [
        {
          "output_type": "execute_result",
          "data": {
            "text/plain": [
              "<torch._C.Generator at 0x7fa2795d9910>"
            ]
          },
          "metadata": {},
          "execution_count": 3
        }
      ]
    },
    {
      "cell_type": "code",
      "metadata": {
        "id": "bL64bMTkw2GP"
      },
      "source": [
        "X = torch.Tensor([[0,0], [0,1], [1,0], [1,1]])\n",
        "Y = torch.Tensor([0, 1, 1, 0]).view(-1,1)"
      ],
      "execution_count": 4,
      "outputs": []
    },
    {
      "cell_type": "code",
      "metadata": {
        "id": "aC82kEAIw3Wf"
      },
      "source": [
        "class XOR(nn.Module):\n",
        "    def __init__(self, input_dim = 2, output_dim=1):\n",
        "        super(XOR, self).__init__()\n",
        "        self.lin1 = nn.Linear(input_dim, 5)\n",
        "        self.lin2 = nn.Linear(5,4)\n",
        "        self.lin3 = nn.Linear(4, output_dim)\n",
        "    \n",
        "    def forward(self, x):\n",
        "        x = self.lin1(x)\n",
        "        x = F.tanh(x)\n",
        "        x = self.lin2(x)\n",
        "        x = F.tanh(x)\n",
        "        x = self.lin3(x)\n",
        "        # 1 .Removing the last activation function\n",
        "        return x"
      ],
      "execution_count": 7,
      "outputs": []
    },
    {
      "cell_type": "code",
      "metadata": {
        "colab": {
          "base_uri": "https://localhost:8080/"
        },
        "id": "8gQIQExYw65K",
        "outputId": "63ecfa9d-16cc-4e6d-e540-d4fb45975d21"
      },
      "source": [
        "model = XOR()\n",
        "print(model)\n",
        "from torchsummary import summary\n",
        "summary(model, (2,2))\n",
        "# 2. No of parameters is 44"
      ],
      "execution_count": 9,
      "outputs": [
        {
          "output_type": "stream",
          "name": "stdout",
          "text": [
            "XOR(\n",
            "  (lin1): Linear(in_features=2, out_features=5, bias=True)\n",
            "  (lin2): Linear(in_features=5, out_features=4, bias=True)\n",
            "  (lin3): Linear(in_features=4, out_features=1, bias=True)\n",
            ")\n",
            "----------------------------------------------------------------\n",
            "        Layer (type)               Output Shape         Param #\n",
            "================================================================\n",
            "            Linear-1                 [-1, 2, 5]              15\n",
            "            Linear-2                 [-1, 2, 4]              24\n",
            "            Linear-3                 [-1, 2, 1]               5\n",
            "================================================================\n",
            "Total params: 44\n",
            "Trainable params: 44\n",
            "Non-trainable params: 0\n",
            "----------------------------------------------------------------\n",
            "Input size (MB): 0.00\n",
            "Forward/backward pass size (MB): 0.00\n",
            "Params size (MB): 0.00\n",
            "Estimated Total Size (MB): 0.00\n",
            "----------------------------------------------------------------\n"
          ]
        },
        {
          "output_type": "stream",
          "name": "stderr",
          "text": [
            "/usr/local/lib/python3.7/dist-packages/torch/nn/functional.py:1794: UserWarning: nn.functional.tanh is deprecated. Use torch.tanh instead.\n",
            "  warnings.warn(\"nn.functional.tanh is deprecated. Use torch.tanh instead.\")\n"
          ]
        }
      ]
    },
    {
      "cell_type": "code",
      "metadata": {
        "id": "yeotEq19x6XF"
      },
      "source": [
        "def weights_init(model):\n",
        "    for m in model.modules():\n",
        "        if isinstance(m, nn.Linear):\n",
        "            # initialize the weight tensor, here we use a normal distribution\n",
        "            m.weight.data.normal_(0, 1)\n",
        "\n",
        "weights_init(model)"
      ],
      "execution_count": 10,
      "outputs": []
    },
    {
      "cell_type": "code",
      "metadata": {
        "id": "WrD_sNzLx78e"
      },
      "source": [
        "loss_func = nn.L1Loss()"
      ],
      "execution_count": 11,
      "outputs": []
    },
    {
      "cell_type": "code",
      "metadata": {
        "id": "-zvbrMd2x_lA"
      },
      "source": [
        "optimizer = optim.SGD(model.parameters(), lr=0.02, momentum=0.9)\n"
      ],
      "execution_count": 12,
      "outputs": []
    },
    {
      "cell_type": "code",
      "metadata": {
        "colab": {
          "base_uri": "https://localhost:8080/"
        },
        "id": "q7tWa3D7yA5X",
        "outputId": "ad629d1d-9867-4dba-cf9f-588b33a4cad9"
      },
      "source": [
        "# 3. No. of epochs = 2001\n",
        "epochs = 2001\n",
        "steps = X.size(0)\n",
        "for i in range(epochs):\n",
        "    for j in range(steps):\n",
        "        data_point = np.random.randint(X.size(0))\n",
        "        x_var = Variable(X[data_point], requires_grad=False)\n",
        "        y_var = Variable(Y[data_point], requires_grad=False)\n",
        "        \n",
        "        optimizer.zero_grad()\n",
        "        y_hat = model(x_var)\n",
        "        loss = loss_func.forward(y_hat, y_var)\n",
        "        loss.backward()\n",
        "        optimizer.step()\n",
        "        \n",
        "    if i % 50 == 0:\n",
        "        print( \"Epoch: {0}, Loss: {1}, \".format(i, loss.data.numpy()))"
      ],
      "execution_count": 13,
      "outputs": [
        {
          "output_type": "stream",
          "name": "stderr",
          "text": [
            "/usr/local/lib/python3.7/dist-packages/torch/nn/functional.py:1794: UserWarning: nn.functional.tanh is deprecated. Use torch.tanh instead.\n",
            "  warnings.warn(\"nn.functional.tanh is deprecated. Use torch.tanh instead.\")\n"
          ]
        },
        {
          "output_type": "stream",
          "name": "stdout",
          "text": [
            "Epoch: 0, Loss: 1.2654935121536255, \n",
            "Epoch: 50, Loss: 0.38182830810546875, \n",
            "Epoch: 100, Loss: 0.23738595843315125, \n",
            "Epoch: 150, Loss: 0.5353392362594604, \n",
            "Epoch: 200, Loss: 0.03876006603240967, \n",
            "Epoch: 250, Loss: 0.19642072916030884, \n",
            "Epoch: 300, Loss: 0.283532977104187, \n",
            "Epoch: 350, Loss: 0.04877114295959473, \n",
            "Epoch: 400, Loss: 0.06569123268127441, \n",
            "Epoch: 450, Loss: 0.2189672589302063, \n",
            "Epoch: 500, Loss: 0.0796436071395874, \n",
            "Epoch: 550, Loss: 0.06413471698760986, \n",
            "Epoch: 600, Loss: 0.2735169529914856, \n",
            "Epoch: 650, Loss: 0.32771116495132446, \n",
            "Epoch: 700, Loss: 0.015378594398498535, \n",
            "Epoch: 750, Loss: 0.03280746936798096, \n",
            "Epoch: 800, Loss: 0.03779935836791992, \n",
            "Epoch: 850, Loss: 0.10634088516235352, \n",
            "Epoch: 900, Loss: 0.04112452268600464, \n",
            "Epoch: 950, Loss: 0.1678110957145691, \n",
            "Epoch: 1000, Loss: 0.045375943183898926, \n",
            "Epoch: 1050, Loss: 0.4360145926475525, \n",
            "Epoch: 1100, Loss: 0.15317153930664062, \n",
            "Epoch: 1150, Loss: 0.2103368639945984, \n",
            "Epoch: 1200, Loss: 0.377166748046875, \n",
            "Epoch: 1250, Loss: 0.832149863243103, \n",
            "Epoch: 1300, Loss: 0.04756450653076172, \n",
            "Epoch: 1350, Loss: 0.0017191171646118164, \n",
            "Epoch: 1400, Loss: 0.011206626892089844, \n",
            "Epoch: 1450, Loss: 0.06932270526885986, \n",
            "Epoch: 1500, Loss: 0.29986321926116943, \n",
            "Epoch: 1550, Loss: 0.04349708557128906, \n",
            "Epoch: 1600, Loss: 0.20731520652770996, \n",
            "Epoch: 1650, Loss: 0.008872270584106445, \n",
            "Epoch: 1700, Loss: 0.0505824089050293, \n",
            "Epoch: 1750, Loss: 0.25044989585876465, \n",
            "Epoch: 1800, Loss: 0.1402045488357544, \n",
            "Epoch: 1850, Loss: 0.212907075881958, \n",
            "Epoch: 1900, Loss: 0.017055630683898926, \n",
            "Epoch: 1950, Loss: 0.004537820816040039, \n",
            "Epoch: 2000, Loss: 0.32330143451690674, \n"
          ]
        }
      ]
    },
    {
      "cell_type": "code",
      "metadata": {
        "id": "QV0dIdveyCRi"
      },
      "source": [
        ""
      ],
      "execution_count": null,
      "outputs": []
    }
  ]
}